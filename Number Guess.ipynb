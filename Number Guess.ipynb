{
 "cells": [
  {
   "cell_type": "code",
   "execution_count": null,
   "id": "5bbb59ac-49cd-4a73-a493-64464be2a929",
   "metadata": {},
   "outputs": [],
   "source": [
    "#Number guessing game....\n",
    "#computer will generate a random no. from 1 to 100..you have to guess a no.\n",
    "#if it matches you won,otherwise you loose\n",
    "import random\n",
    "\n",
    "def number_guessing_game():\n",
    "\n",
    "\n",
    "    secret_number = random.randint(1, 100)  # Generate a random number between 1 and 100\n",
    "    guesses_left = 5 # Number of attempts the player has\n",
    "    print(\"Welcome to the Number Guessing Game!\")\n",
    "    print(\"I'm thinking of a number between 1 and 100.\")\n",
    "\n",
    "    while guesses_left > 0:\n",
    "        try:\n",
    "            guess = int(input(f\"You have {guesses_left} guesses left.  Enter your guess: \"))\n",
    "        except ValueError:\n",
    "            print(\"Invalid input. Please enter a number.\")\n",
    "            continue  # Go back to the beginning of the loop\n",
    "\n",
    "        if guess < secret_number:\n",
    "            print(\"Too low!\")\n",
    "        elif guess > secret_number:\n",
    "            print(\"Too high!\")\n",
    "        else:\n",
    "            print(f\"Congratulations! You guessed the number {secret_number} in {7 - guesses_left + 1} guesses.\")\n",
    "            return\n",
    "\n",
    "        guesses_left -= 1\n",
    "\n",
    "    print(f\"You ran out of guesses. The number was {secret_number}.\")\n",
    "\n",
    "if __name__ == \"__main__\":  # Ensures the game only runs when the script is executed directly.\n",
    "    number_guessing_game()"
   ]
  }
 ],
 "metadata": {
  "kernelspec": {
   "display_name": "Python 3 (ipykernel)",
   "language": "python",
   "name": "python3"
  },
  "language_info": {
   "codemirror_mode": {
    "name": "ipython",
    "version": 3
   },
   "file_extension": ".py",
   "mimetype": "text/x-python",
   "name": "python",
   "nbconvert_exporter": "python",
   "pygments_lexer": "ipython3",
   "version": "3.12.7"
  }
 },
 "nbformat": 4,
 "nbformat_minor": 5
}
